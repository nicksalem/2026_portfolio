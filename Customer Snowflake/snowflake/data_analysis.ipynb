{
 "cells": [
  {
   "cell_type": "markdown",
   "id": "d96ddf27",
   "metadata": {},
   "source": [
    "# Query Snowflake Database - example\n",
    "\n",
    "This notebook demonstrates the process of querying a Snowflake SQL database. Here I will demonstrate a ETL workflow. First, extract data from the database with queries. In the transform steps, I will perform SQL data manipulation using the python API for efficient table joins and data processing. Here agian I can query the data for local analysis. Finally, load the data into further analysis such as dashboards and data science projects. These later projects include machine learning pipelines utilizing tools such as XGBoost and neural networks."
   ]
  },
  {
   "cell_type": "markdown",
   "id": "5c3ad230",
   "metadata": {},
   "source": [
    "### Note: passwords have been removed to prevent unexpected compute costs, but the data has been stored within Customer Snowflake\\data\\snowflake_pull.\n",
    "\n",
    "Therefore this notebook does NOT run"
   ]
  },
  {
   "cell_type": "code",
   "execution_count": 42,
   "id": "79c2326c",
   "metadata": {},
   "outputs": [],
   "source": [
    "import snowflake.connector # utilized to make connections to snowflake\n",
    "import pandas as pd # for dataframe and data manipulations\n",
    "import os # for path functions"
   ]
  },
  {
   "cell_type": "markdown",
   "id": "7d93c166",
   "metadata": {},
   "source": [
    "## Example use case of SQL joins is demonstrated below\n",
    "\n",
    "Here multiple tables are joined to demonstrate the powerful data processing tool of Snowflake and SQL."
   ]
  },
  {
   "cell_type": "code",
   "execution_count": 57,
   "id": "8ba7ffa5",
   "metadata": {},
   "outputs": [],
   "source": [
    "# SELECT \n",
    "#     o.order_id, \n",
    "#     o.customer_id, \n",
    "#     o.order_date,\n",
    "#     o.order_total, \n",
    "#     c.name, \n",
    "#     c.email, \n",
    "#     c.join_date, \n",
    "#     c.location,\n",
    "#     oi.product_id,\n",
    "#     oi.quantity,\n",
    "#     p.product_name,\n",
    "#     p.category,\n",
    "#     p.price\n",
    "# FROM orders o\n",
    "# INNER JOIN customers c \n",
    "#     ON o.customer_id = c.customer_id \n",
    "# INNER JOIN order_items oi \n",
    "#     ON o.order_id = oi.order_id \n",
    "# INNER JOIN products p\n",
    "#     ON oi.product_id = p.product_id\n",
    "# LIMIT 10;"
   ]
  },
  {
   "cell_type": "code",
   "execution_count": null,
   "id": "be34997c",
   "metadata": {},
   "outputs": [],
   "source": [
    "# store general requirements\n",
    "# pip freeze > requirements.txt"
   ]
  },
  {
   "cell_type": "code",
   "execution_count": 23,
   "id": "643f5955",
   "metadata": {},
   "outputs": [
    {
     "name": "stdout",
     "output_type": "stream",
     "text": [
      "Today is: 2025-06-22\n"
     ]
    }
   ],
   "source": [
    "# Connect to Snowflake\n",
    "# conn = snowflake.connector.connect(\n",
    "#     user='xxx',\n",
    "#     password='xxx',\n",
    "#     account='xxx',          # e.g., xy12345.us-east-1\n",
    "#     warehouse='xxx',\n",
    "#     database='xxx',\n",
    "#     schema='xxx'\n",
    "# )\n",
    "\n",
    "conn = snowflake.connector.connect(\n",
    "    user=USER,\n",
    "    password=PASSWORD,\n",
    "    account=ACCOUNT,\n",
    "    warehouse=WAREHOUSE,\n",
    "    database=DATABASE,\n",
    "    schema=SCHEMA\n",
    "    )\n",
    "\n",
    "\n",
    "cursor = conn.cursor()\n",
    "\n",
    "# Run a simple query\n",
    "cursor.execute(\"SELECT CURRENT_DATE;\")\n",
    "result = cursor.fetchone()\n",
    "print(\"Today is:\", result[0])"
   ]
  },
  {
   "cell_type": "code",
   "execution_count": 24,
   "id": "dd3e84f8",
   "metadata": {},
   "outputs": [
    {
     "name": "stdout",
     "output_type": "stream",
     "text": [
      "('COMPUTE_WH',)\n"
     ]
    }
   ],
   "source": [
    "cursor.execute('SELECT CURRENT_WAREHOUSE();')\n",
    "result = cursor.fetchone()\n",
    "print(result)"
   ]
  },
  {
   "cell_type": "code",
   "execution_count": 29,
   "id": "89e4eec2",
   "metadata": {},
   "outputs": [
    {
     "data": {
      "text/plain": [
       "('PUBLIC', 'CUSTOMERS')"
      ]
     },
     "execution_count": 29,
     "metadata": {},
     "output_type": "execute_result"
    }
   ],
   "source": [
    "cursor.execute(\"SELECT table_schema, table_name FROM ECOMM_SYNTHETIC.INFORMATION_SCHEMA.TABLES WHERE table_type = 'BASE TABLE';\")\n",
    "result = cursor.fetchone()\n",
    "result"
   ]
  },
  {
   "cell_type": "markdown",
   "id": "8fa34551",
   "metadata": {},
   "source": [
    "## Finding the Tables and Preview the data\n",
    "\n",
    "If I do not have in-depth knowledge of the tables before working with the database, the Information Schema provides information about tables and metadata.\n",
    "\n",
    "Establishing a connection to the database via the name does not provide information about the data itself. This query provides a limited data set which can be utilized in python for further exploratory investigation.\n",
    "\n",
    "Limiting the data to 5 rows helps minimize compute costs while maintaing key aspects of the database schema and provides insight into the data structure."
   ]
  },
  {
   "cell_type": "code",
   "execution_count": null,
   "id": "1fb9cad6",
   "metadata": {},
   "outputs": [
    {
     "name": "stdout",
     "output_type": "stream",
     "text": [
      "\n",
      "Preview of table: CUSTOMERS\n"
     ]
    },
    {
     "data": {
      "text/html": [
       "<div>\n",
       "<style scoped>\n",
       "    .dataframe tbody tr th:only-of-type {\n",
       "        vertical-align: middle;\n",
       "    }\n",
       "\n",
       "    .dataframe tbody tr th {\n",
       "        vertical-align: top;\n",
       "    }\n",
       "\n",
       "    .dataframe thead th {\n",
       "        text-align: right;\n",
       "    }\n",
       "</style>\n",
       "<table border=\"1\" class=\"dataframe\">\n",
       "  <thead>\n",
       "    <tr style=\"text-align: right;\">\n",
       "      <th></th>\n",
       "      <th>CUSTOMER_ID</th>\n",
       "      <th>NAME</th>\n",
       "      <th>EMAIL</th>\n",
       "      <th>JOIN_DATE</th>\n",
       "      <th>LOCATION</th>\n",
       "    </tr>\n",
       "  </thead>\n",
       "  <tbody>\n",
       "    <tr>\n",
       "      <th>0</th>\n",
       "      <td>1</td>\n",
       "      <td>Nicole Morris</td>\n",
       "      <td>donnahiggins@yahoo.com</td>\n",
       "      <td>2024-02-19</td>\n",
       "      <td>Lake Victoria</td>\n",
       "    </tr>\n",
       "    <tr>\n",
       "      <th>1</th>\n",
       "      <td>2</td>\n",
       "      <td>Amy Murphy</td>\n",
       "      <td>colin87@aguilar.com</td>\n",
       "      <td>2025-01-01</td>\n",
       "      <td>Port Brendachester</td>\n",
       "    </tr>\n",
       "    <tr>\n",
       "      <th>2</th>\n",
       "      <td>3</td>\n",
       "      <td>Dawn Mckay</td>\n",
       "      <td>dyermaria@hotmail.com</td>\n",
       "      <td>2023-09-19</td>\n",
       "      <td>Sheilamouth</td>\n",
       "    </tr>\n",
       "    <tr>\n",
       "      <th>3</th>\n",
       "      <td>4</td>\n",
       "      <td>Krystal Li</td>\n",
       "      <td>kristin98@gmail.com</td>\n",
       "      <td>2023-07-17</td>\n",
       "      <td>Lake Katie</td>\n",
       "    </tr>\n",
       "    <tr>\n",
       "      <th>4</th>\n",
       "      <td>5</td>\n",
       "      <td>Joshua Taylor</td>\n",
       "      <td>rdaniel@valentine.com</td>\n",
       "      <td>2024-07-15</td>\n",
       "      <td>Mooremouth</td>\n",
       "    </tr>\n",
       "  </tbody>\n",
       "</table>\n",
       "</div>"
      ],
      "text/plain": [
       "   CUSTOMER_ID           NAME                   EMAIL   JOIN_DATE  \\\n",
       "0            1  Nicole Morris  donnahiggins@yahoo.com  2024-02-19   \n",
       "1            2     Amy Murphy     colin87@aguilar.com  2025-01-01   \n",
       "2            3     Dawn Mckay   dyermaria@hotmail.com  2023-09-19   \n",
       "3            4     Krystal Li     kristin98@gmail.com  2023-07-17   \n",
       "4            5  Joshua Taylor   rdaniel@valentine.com  2024-07-15   \n",
       "\n",
       "             LOCATION  \n",
       "0       Lake Victoria  \n",
       "1  Port Brendachester  \n",
       "2         Sheilamouth  \n",
       "3          Lake Katie  \n",
       "4          Mooremouth  "
      ]
     },
     "metadata": {},
     "output_type": "display_data"
    },
    {
     "name": "stdout",
     "output_type": "stream",
     "text": [
      "\n",
      "Preview of table: ORDERS\n"
     ]
    },
    {
     "data": {
      "text/html": [
       "<div>\n",
       "<style scoped>\n",
       "    .dataframe tbody tr th:only-of-type {\n",
       "        vertical-align: middle;\n",
       "    }\n",
       "\n",
       "    .dataframe tbody tr th {\n",
       "        vertical-align: top;\n",
       "    }\n",
       "\n",
       "    .dataframe thead th {\n",
       "        text-align: right;\n",
       "    }\n",
       "</style>\n",
       "<table border=\"1\" class=\"dataframe\">\n",
       "  <thead>\n",
       "    <tr style=\"text-align: right;\">\n",
       "      <th></th>\n",
       "      <th>ORDER_ID</th>\n",
       "      <th>CUSTOMER_ID</th>\n",
       "      <th>ORDER_DATE</th>\n",
       "      <th>ORDER_TOTAL</th>\n",
       "    </tr>\n",
       "  </thead>\n",
       "  <tbody>\n",
       "    <tr>\n",
       "      <th>0</th>\n",
       "      <td>1</td>\n",
       "      <td>74</td>\n",
       "      <td>2024-12-02</td>\n",
       "      <td>269.97</td>\n",
       "    </tr>\n",
       "    <tr>\n",
       "      <th>1</th>\n",
       "      <td>2</td>\n",
       "      <td>63</td>\n",
       "      <td>2024-06-16</td>\n",
       "      <td>134.97</td>\n",
       "    </tr>\n",
       "    <tr>\n",
       "      <th>2</th>\n",
       "      <td>3</td>\n",
       "      <td>64</td>\n",
       "      <td>2025-05-15</td>\n",
       "      <td>209.97</td>\n",
       "    </tr>\n",
       "    <tr>\n",
       "      <th>3</th>\n",
       "      <td>4</td>\n",
       "      <td>24</td>\n",
       "      <td>2025-05-15</td>\n",
       "      <td>119.98</td>\n",
       "    </tr>\n",
       "    <tr>\n",
       "      <th>4</th>\n",
       "      <td>5</td>\n",
       "      <td>75</td>\n",
       "      <td>2025-06-12</td>\n",
       "      <td>199.97</td>\n",
       "    </tr>\n",
       "  </tbody>\n",
       "</table>\n",
       "</div>"
      ],
      "text/plain": [
       "   ORDER_ID  CUSTOMER_ID  ORDER_DATE  ORDER_TOTAL\n",
       "0         1           74  2024-12-02       269.97\n",
       "1         2           63  2024-06-16       134.97\n",
       "2         3           64  2025-05-15       209.97\n",
       "3         4           24  2025-05-15       119.98\n",
       "4         5           75  2025-06-12       199.97"
      ]
     },
     "metadata": {},
     "output_type": "display_data"
    },
    {
     "name": "stdout",
     "output_type": "stream",
     "text": [
      "\n",
      "Preview of table: PRODUCTS\n"
     ]
    },
    {
     "data": {
      "text/html": [
       "<div>\n",
       "<style scoped>\n",
       "    .dataframe tbody tr th:only-of-type {\n",
       "        vertical-align: middle;\n",
       "    }\n",
       "\n",
       "    .dataframe tbody tr th {\n",
       "        vertical-align: top;\n",
       "    }\n",
       "\n",
       "    .dataframe thead th {\n",
       "        text-align: right;\n",
       "    }\n",
       "</style>\n",
       "<table border=\"1\" class=\"dataframe\">\n",
       "  <thead>\n",
       "    <tr style=\"text-align: right;\">\n",
       "      <th></th>\n",
       "      <th>PRODUCT_ID</th>\n",
       "      <th>PRODUCT_NAME</th>\n",
       "      <th>CATEGORY</th>\n",
       "      <th>PRICE</th>\n",
       "    </tr>\n",
       "  </thead>\n",
       "  <tbody>\n",
       "    <tr>\n",
       "      <th>0</th>\n",
       "      <td>1</td>\n",
       "      <td>Running Shoes</td>\n",
       "      <td>Footwear</td>\n",
       "      <td>89.99</td>\n",
       "    </tr>\n",
       "    <tr>\n",
       "      <th>1</th>\n",
       "      <td>2</td>\n",
       "      <td>Cross-Training Shoes</td>\n",
       "      <td>Footwear</td>\n",
       "      <td>79.99</td>\n",
       "    </tr>\n",
       "    <tr>\n",
       "      <th>2</th>\n",
       "      <td>3</td>\n",
       "      <td>Cleats</td>\n",
       "      <td>Footwear</td>\n",
       "      <td>59.99</td>\n",
       "    </tr>\n",
       "    <tr>\n",
       "      <th>3</th>\n",
       "      <td>4</td>\n",
       "      <td>Trail Running Shoes</td>\n",
       "      <td>Footwear</td>\n",
       "      <td>94.99</td>\n",
       "    </tr>\n",
       "    <tr>\n",
       "      <th>4</th>\n",
       "      <td>5</td>\n",
       "      <td>Indoor Court Shoes</td>\n",
       "      <td>Footwear</td>\n",
       "      <td>74.99</td>\n",
       "    </tr>\n",
       "  </tbody>\n",
       "</table>\n",
       "</div>"
      ],
      "text/plain": [
       "   PRODUCT_ID          PRODUCT_NAME  CATEGORY  PRICE\n",
       "0           1         Running Shoes  Footwear  89.99\n",
       "1           2  Cross-Training Shoes  Footwear  79.99\n",
       "2           3                Cleats  Footwear  59.99\n",
       "3           4   Trail Running Shoes  Footwear  94.99\n",
       "4           5    Indoor Court Shoes  Footwear  74.99"
      ]
     },
     "metadata": {},
     "output_type": "display_data"
    },
    {
     "name": "stdout",
     "output_type": "stream",
     "text": [
      "\n",
      "Preview of table: ORDER_ITEMS\n"
     ]
    },
    {
     "data": {
      "text/html": [
       "<div>\n",
       "<style scoped>\n",
       "    .dataframe tbody tr th:only-of-type {\n",
       "        vertical-align: middle;\n",
       "    }\n",
       "\n",
       "    .dataframe tbody tr th {\n",
       "        vertical-align: top;\n",
       "    }\n",
       "\n",
       "    .dataframe thead th {\n",
       "        text-align: right;\n",
       "    }\n",
       "</style>\n",
       "<table border=\"1\" class=\"dataframe\">\n",
       "  <thead>\n",
       "    <tr style=\"text-align: right;\">\n",
       "      <th></th>\n",
       "      <th>ORDER_ID</th>\n",
       "      <th>PRODUCT_ID</th>\n",
       "      <th>QUANTITY</th>\n",
       "    </tr>\n",
       "  </thead>\n",
       "  <tbody>\n",
       "    <tr>\n",
       "      <th>0</th>\n",
       "      <td>1</td>\n",
       "      <td>1</td>\n",
       "      <td>3</td>\n",
       "    </tr>\n",
       "    <tr>\n",
       "      <th>1</th>\n",
       "      <td>2</td>\n",
       "      <td>22</td>\n",
       "      <td>3</td>\n",
       "    </tr>\n",
       "    <tr>\n",
       "      <th>2</th>\n",
       "      <td>3</td>\n",
       "      <td>4</td>\n",
       "      <td>1</td>\n",
       "    </tr>\n",
       "    <tr>\n",
       "      <th>3</th>\n",
       "      <td>3</td>\n",
       "      <td>25</td>\n",
       "      <td>1</td>\n",
       "    </tr>\n",
       "    <tr>\n",
       "      <th>4</th>\n",
       "      <td>3</td>\n",
       "      <td>1</td>\n",
       "      <td>1</td>\n",
       "    </tr>\n",
       "  </tbody>\n",
       "</table>\n",
       "</div>"
      ],
      "text/plain": [
       "   ORDER_ID  PRODUCT_ID  QUANTITY\n",
       "0         1           1         3\n",
       "1         2          22         3\n",
       "2         3           4         1\n",
       "3         3          25         1\n",
       "4         3           1         1"
      ]
     },
     "metadata": {},
     "output_type": "display_data"
    }
   ],
   "source": [
    "# First query the schema for the table names\n",
    "cursor.execute(\"\"\"\n",
    "    SELECT table_name\n",
    "    FROM INFORMATION_SCHEMA.TABLES\n",
    "    WHERE table_schema = 'PUBLIC' AND table_type = 'BASE TABLE';\n",
    "\"\"\")\n",
    "\n",
    "# create a list of tables using cursor.fetchall()\n",
    "tables = [row[0] for row in cursor.fetchall()]\n",
    "\n",
    "# loop through the tables and display the data\n",
    "for table in tables:\n",
    "    print(f\"\\nPreview of table: {table}\")\n",
    "    query = f'SELECT * FROM PUBLIC.\"{table}\" LIMIT 5'\n",
    "    cursor.execute(query)\n",
    "    rows = cursor.fetchall()\n",
    "    columns = [desc[0] for desc in cursor.description]\n",
    "    df = pd.DataFrame(rows, columns=columns)\n",
    "    display(df.head())"
   ]
  },
  {
   "cell_type": "markdown",
   "id": "554e825c",
   "metadata": {},
   "source": [
    "## Run the query again and now store the data in the data\\snowflake_pull directory\n",
    "\n",
    "Remove the LIMIT clause to pull the full data set"
   ]
  },
  {
   "cell_type": "code",
   "execution_count": 49,
   "id": "7267557e",
   "metadata": {},
   "outputs": [
    {
     "name": "stdout",
     "output_type": "stream",
     "text": [
      "\n",
      "Preview of table: CUSTOMERS\n",
      "\n",
      "Preview of table: ORDERS\n",
      "\n",
      "Preview of table: PRODUCTS\n",
      "\n",
      "Preview of table: ORDER_ITEMS\n"
     ]
    }
   ],
   "source": [
    "# First query the schema for the table names\n",
    "cursor.execute(\"\"\"\n",
    "    SELECT table_name\n",
    "    FROM INFORMATION_SCHEMA.TABLES\n",
    "    WHERE table_schema = 'PUBLIC' AND table_type = 'BASE TABLE';\n",
    "\"\"\")\n",
    "\n",
    "# create a list of tables using cursor.fetchall()\n",
    "tables = [row[0] for row in cursor.fetchall()]\n",
    "\n",
    "# loop through the tables and display the data - remove the LIMIT from previous\n",
    "for table in tables:\n",
    "    print(f\"\\nPreview of table: {table}\")\n",
    "    query = f'SELECT * FROM PUBLIC.\"{table}\"'\n",
    "    cursor.execute(query)\n",
    "    rows = cursor.fetchall()\n",
    "    columns = [desc[0] for desc in cursor.description]\n",
    "    df = pd.DataFrame(rows, columns=columns)\n",
    "\n",
    "    # store each dataframe using the table name\n",
    "    dir = r\"..\\data\\snowflake_pull\"\n",
    "    file_name = f\"{table}.csv\"\n",
    "    file_path = os.path.join(dir, file_name)\n",
    "    df.to_csv(file_path, index=False)"
   ]
  },
  {
   "cell_type": "markdown",
   "id": "a61a8ab3",
   "metadata": {},
   "source": [
    "## Data is now stored locally for further analysis"
   ]
  },
  {
   "cell_type": "code",
   "execution_count": 52,
   "id": "065ef7c2",
   "metadata": {},
   "outputs": [
    {
     "data": {
      "text/html": [
       "<div>\n",
       "<style scoped>\n",
       "    .dataframe tbody tr th:only-of-type {\n",
       "        vertical-align: middle;\n",
       "    }\n",
       "\n",
       "    .dataframe tbody tr th {\n",
       "        vertical-align: top;\n",
       "    }\n",
       "\n",
       "    .dataframe thead th {\n",
       "        text-align: right;\n",
       "    }\n",
       "</style>\n",
       "<table border=\"1\" class=\"dataframe\">\n",
       "  <thead>\n",
       "    <tr style=\"text-align: right;\">\n",
       "      <th></th>\n",
       "      <th>CUSTOMER_ID</th>\n",
       "      <th>NAME</th>\n",
       "      <th>EMAIL</th>\n",
       "      <th>JOIN_DATE</th>\n",
       "      <th>LOCATION</th>\n",
       "    </tr>\n",
       "  </thead>\n",
       "  <tbody>\n",
       "    <tr>\n",
       "      <th>0</th>\n",
       "      <td>1</td>\n",
       "      <td>Nicole Morris</td>\n",
       "      <td>donnahiggins@yahoo.com</td>\n",
       "      <td>2024-02-19</td>\n",
       "      <td>Lake Victoria</td>\n",
       "    </tr>\n",
       "    <tr>\n",
       "      <th>1</th>\n",
       "      <td>2</td>\n",
       "      <td>Amy Murphy</td>\n",
       "      <td>colin87@aguilar.com</td>\n",
       "      <td>2025-01-01</td>\n",
       "      <td>Port Brendachester</td>\n",
       "    </tr>\n",
       "    <tr>\n",
       "      <th>2</th>\n",
       "      <td>3</td>\n",
       "      <td>Dawn Mckay</td>\n",
       "      <td>dyermaria@hotmail.com</td>\n",
       "      <td>2023-09-19</td>\n",
       "      <td>Sheilamouth</td>\n",
       "    </tr>\n",
       "    <tr>\n",
       "      <th>3</th>\n",
       "      <td>4</td>\n",
       "      <td>Krystal Li</td>\n",
       "      <td>kristin98@gmail.com</td>\n",
       "      <td>2023-07-17</td>\n",
       "      <td>Lake Katie</td>\n",
       "    </tr>\n",
       "    <tr>\n",
       "      <th>4</th>\n",
       "      <td>5</td>\n",
       "      <td>Joshua Taylor</td>\n",
       "      <td>rdaniel@valentine.com</td>\n",
       "      <td>2024-07-15</td>\n",
       "      <td>Mooremouth</td>\n",
       "    </tr>\n",
       "  </tbody>\n",
       "</table>\n",
       "</div>"
      ],
      "text/plain": [
       "   CUSTOMER_ID           NAME                   EMAIL   JOIN_DATE  \\\n",
       "0            1  Nicole Morris  donnahiggins@yahoo.com  2024-02-19   \n",
       "1            2     Amy Murphy     colin87@aguilar.com  2025-01-01   \n",
       "2            3     Dawn Mckay   dyermaria@hotmail.com  2023-09-19   \n",
       "3            4     Krystal Li     kristin98@gmail.com  2023-07-17   \n",
       "4            5  Joshua Taylor   rdaniel@valentine.com  2024-07-15   \n",
       "\n",
       "             LOCATION  \n",
       "0       Lake Victoria  \n",
       "1  Port Brendachester  \n",
       "2         Sheilamouth  \n",
       "3          Lake Katie  \n",
       "4          Mooremouth  "
      ]
     },
     "execution_count": 52,
     "metadata": {},
     "output_type": "execute_result"
    }
   ],
   "source": [
    "df_customers = pd.read_csv(r'..\\data\\snowflake_pull\\CUSTOMERS.csv')\n",
    "\n",
    "df_customers.head()"
   ]
  },
  {
   "cell_type": "markdown",
   "id": "aa8e3953",
   "metadata": {},
   "source": [
    "## Join data based on primary keys"
   ]
  },
  {
   "cell_type": "code",
   "execution_count": 66,
   "id": "b8d920cb",
   "metadata": {},
   "outputs": [
    {
     "data": {
      "text/plain": [
       "<snowflake.connector.cursor.SnowflakeCursor at 0x287a8bb1910>"
      ]
     },
     "execution_count": 66,
     "metadata": {},
     "output_type": "execute_result"
    }
   ],
   "source": [
    "query = \"\"\"SELECT \n",
    "    o.order_id, \n",
    "    o.customer_id, \n",
    "    o.order_date,\n",
    "    o.order_total, \n",
    "    c.name, \n",
    "    c.email, \n",
    "    c.join_date, \n",
    "    c.location,\n",
    "    oi.product_id,\n",
    "    oi.quantity,\n",
    "    p.product_name,\n",
    "    p.category,\n",
    "    p.price\n",
    "FROM orders o\n",
    "INNER JOIN customers c \n",
    "    ON o.customer_id = c.customer_id \n",
    "INNER JOIN order_items oi \n",
    "    ON o.order_id = oi.order_id \n",
    "INNER JOIN products p\n",
    "    ON oi.product_id = p.product_id;\"\"\"\n",
    "\n",
    "\n",
    "cursor.execute(query)"
   ]
  },
  {
   "cell_type": "markdown",
   "id": "a58b4384",
   "metadata": {},
   "source": [
    "## Cursor.description provides meta data for columns"
   ]
  },
  {
   "cell_type": "code",
   "execution_count": 67,
   "id": "adee76dd",
   "metadata": {},
   "outputs": [
    {
     "data": {
      "text/plain": [
       "[ResultMetadata(name='ORDER_ID', type_code=0, display_size=None, internal_size=None, precision=38, scale=0, is_nullable=True),\n",
       " ResultMetadata(name='CUSTOMER_ID', type_code=0, display_size=None, internal_size=None, precision=38, scale=0, is_nullable=True),\n",
       " ResultMetadata(name='ORDER_DATE', type_code=3, display_size=None, internal_size=None, precision=None, scale=None, is_nullable=True),\n",
       " ResultMetadata(name='ORDER_TOTAL', type_code=1, display_size=None, internal_size=None, precision=None, scale=None, is_nullable=True),\n",
       " ResultMetadata(name='NAME', type_code=2, display_size=None, internal_size=16777216, precision=None, scale=None, is_nullable=True),\n",
       " ResultMetadata(name='EMAIL', type_code=2, display_size=None, internal_size=16777216, precision=None, scale=None, is_nullable=True),\n",
       " ResultMetadata(name='JOIN_DATE', type_code=3, display_size=None, internal_size=None, precision=None, scale=None, is_nullable=True),\n",
       " ResultMetadata(name='LOCATION', type_code=2, display_size=None, internal_size=16777216, precision=None, scale=None, is_nullable=True),\n",
       " ResultMetadata(name='PRODUCT_ID', type_code=0, display_size=None, internal_size=None, precision=38, scale=0, is_nullable=True),\n",
       " ResultMetadata(name='QUANTITY', type_code=0, display_size=None, internal_size=None, precision=38, scale=0, is_nullable=True),\n",
       " ResultMetadata(name='PRODUCT_NAME', type_code=2, display_size=None, internal_size=16777216, precision=None, scale=None, is_nullable=True),\n",
       " ResultMetadata(name='CATEGORY', type_code=2, display_size=None, internal_size=16777216, precision=None, scale=None, is_nullable=True),\n",
       " ResultMetadata(name='PRICE', type_code=1, display_size=None, internal_size=None, precision=None, scale=None, is_nullable=True)]"
      ]
     },
     "execution_count": 67,
     "metadata": {},
     "output_type": "execute_result"
    }
   ],
   "source": [
    "cursor.description"
   ]
  },
  {
   "cell_type": "code",
   "execution_count": 68,
   "id": "2ff8620d",
   "metadata": {},
   "outputs": [
    {
     "data": {
      "text/html": [
       "<div>\n",
       "<style scoped>\n",
       "    .dataframe tbody tr th:only-of-type {\n",
       "        vertical-align: middle;\n",
       "    }\n",
       "\n",
       "    .dataframe tbody tr th {\n",
       "        vertical-align: top;\n",
       "    }\n",
       "\n",
       "    .dataframe thead th {\n",
       "        text-align: right;\n",
       "    }\n",
       "</style>\n",
       "<table border=\"1\" class=\"dataframe\">\n",
       "  <thead>\n",
       "    <tr style=\"text-align: right;\">\n",
       "      <th></th>\n",
       "      <th>ORDER_ID</th>\n",
       "      <th>CUSTOMER_ID</th>\n",
       "      <th>ORDER_DATE</th>\n",
       "      <th>ORDER_TOTAL</th>\n",
       "      <th>NAME</th>\n",
       "      <th>EMAIL</th>\n",
       "      <th>JOIN_DATE</th>\n",
       "      <th>LOCATION</th>\n",
       "      <th>PRODUCT_ID</th>\n",
       "      <th>QUANTITY</th>\n",
       "      <th>PRODUCT_NAME</th>\n",
       "      <th>CATEGORY</th>\n",
       "      <th>PRICE</th>\n",
       "    </tr>\n",
       "  </thead>\n",
       "  <tbody>\n",
       "    <tr>\n",
       "      <th>0</th>\n",
       "      <td>1</td>\n",
       "      <td>74</td>\n",
       "      <td>2024-12-02</td>\n",
       "      <td>269.97</td>\n",
       "      <td>Larry Freeman</td>\n",
       "      <td>hilllauren@marshall.com</td>\n",
       "      <td>2023-09-22</td>\n",
       "      <td>Perryberg</td>\n",
       "      <td>1</td>\n",
       "      <td>3</td>\n",
       "      <td>Running Shoes</td>\n",
       "      <td>Footwear</td>\n",
       "      <td>89.99</td>\n",
       "    </tr>\n",
       "    <tr>\n",
       "      <th>1</th>\n",
       "      <td>2</td>\n",
       "      <td>63</td>\n",
       "      <td>2024-06-16</td>\n",
       "      <td>134.97</td>\n",
       "      <td>Phyllis Morrow</td>\n",
       "      <td>christinephillips@yahoo.com</td>\n",
       "      <td>2023-10-07</td>\n",
       "      <td>Josephborough</td>\n",
       "      <td>22</td>\n",
       "      <td>3</td>\n",
       "      <td>Pickleball Paddle</td>\n",
       "      <td>Racquet Sports</td>\n",
       "      <td>44.99</td>\n",
       "    </tr>\n",
       "    <tr>\n",
       "      <th>2</th>\n",
       "      <td>3</td>\n",
       "      <td>64</td>\n",
       "      <td>2025-05-15</td>\n",
       "      <td>209.97</td>\n",
       "      <td>Scott Bentley</td>\n",
       "      <td>nathan45@gmail.com</td>\n",
       "      <td>2025-04-21</td>\n",
       "      <td>Charlesport</td>\n",
       "      <td>4</td>\n",
       "      <td>1</td>\n",
       "      <td>Trail Running Shoes</td>\n",
       "      <td>Footwear</td>\n",
       "      <td>94.99</td>\n",
       "    </tr>\n",
       "    <tr>\n",
       "      <th>3</th>\n",
       "      <td>3</td>\n",
       "      <td>64</td>\n",
       "      <td>2025-05-15</td>\n",
       "      <td>209.97</td>\n",
       "      <td>Scott Bentley</td>\n",
       "      <td>nathan45@gmail.com</td>\n",
       "      <td>2025-04-21</td>\n",
       "      <td>Charlesport</td>\n",
       "      <td>25</td>\n",
       "      <td>1</td>\n",
       "      <td>Squash Goggles</td>\n",
       "      <td>Racquet Sports</td>\n",
       "      <td>24.99</td>\n",
       "    </tr>\n",
       "    <tr>\n",
       "      <th>4</th>\n",
       "      <td>3</td>\n",
       "      <td>64</td>\n",
       "      <td>2025-05-15</td>\n",
       "      <td>209.97</td>\n",
       "      <td>Scott Bentley</td>\n",
       "      <td>nathan45@gmail.com</td>\n",
       "      <td>2025-04-21</td>\n",
       "      <td>Charlesport</td>\n",
       "      <td>1</td>\n",
       "      <td>1</td>\n",
       "      <td>Running Shoes</td>\n",
       "      <td>Footwear</td>\n",
       "      <td>89.99</td>\n",
       "    </tr>\n",
       "  </tbody>\n",
       "</table>\n",
       "</div>"
      ],
      "text/plain": [
       "   ORDER_ID  CUSTOMER_ID  ORDER_DATE  ORDER_TOTAL            NAME  \\\n",
       "0         1           74  2024-12-02       269.97   Larry Freeman   \n",
       "1         2           63  2024-06-16       134.97  Phyllis Morrow   \n",
       "2         3           64  2025-05-15       209.97   Scott Bentley   \n",
       "3         3           64  2025-05-15       209.97   Scott Bentley   \n",
       "4         3           64  2025-05-15       209.97   Scott Bentley   \n",
       "\n",
       "                         EMAIL   JOIN_DATE       LOCATION  PRODUCT_ID  \\\n",
       "0      hilllauren@marshall.com  2023-09-22      Perryberg           1   \n",
       "1  christinephillips@yahoo.com  2023-10-07  Josephborough          22   \n",
       "2           nathan45@gmail.com  2025-04-21    Charlesport           4   \n",
       "3           nathan45@gmail.com  2025-04-21    Charlesport          25   \n",
       "4           nathan45@gmail.com  2025-04-21    Charlesport           1   \n",
       "\n",
       "   QUANTITY         PRODUCT_NAME        CATEGORY  PRICE  \n",
       "0         3        Running Shoes        Footwear  89.99  \n",
       "1         3    Pickleball Paddle  Racquet Sports  44.99  \n",
       "2         1  Trail Running Shoes        Footwear  94.99  \n",
       "3         1       Squash Goggles  Racquet Sports  24.99  \n",
       "4         1        Running Shoes        Footwear  89.99  "
      ]
     },
     "execution_count": 68,
     "metadata": {},
     "output_type": "execute_result"
    }
   ],
   "source": [
    "# use the rows for the data\n",
    "rows = cursor.fetchall()\n",
    "\n",
    "# use the first data value in the metadata for naming the columns\n",
    "columns = [col[0] for col in cursor.description]\n",
    "\n",
    "# convert the data into a pandas dataframe\n",
    "df = pd.DataFrame(rows, columns=columns)\n",
    "\n",
    "# display the dataframe\n",
    "df.head()"
   ]
  },
  {
   "cell_type": "markdown",
   "id": "844e1ae4",
   "metadata": {},
   "source": [
    "## Write data for analysis"
   ]
  },
  {
   "cell_type": "code",
   "execution_count": null,
   "id": "742c0b63",
   "metadata": {},
   "outputs": [],
   "source": [
    "# df.to_csv(r'..\\data\\snowflake_pull\\joined_sales_data.csv')"
   ]
  }
 ],
 "metadata": {
  "kernelspec": {
   "display_name": "Python 3",
   "language": "python",
   "name": "python3"
  },
  "language_info": {
   "codemirror_mode": {
    "name": "ipython",
    "version": 3
   },
   "file_extension": ".py",
   "mimetype": "text/x-python",
   "name": "python",
   "nbconvert_exporter": "python",
   "pygments_lexer": "ipython3",
   "version": "3.12.10"
  }
 },
 "nbformat": 4,
 "nbformat_minor": 5
}
