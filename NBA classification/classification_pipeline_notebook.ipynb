{
 "cells": [
  {
   "cell_type": "code",
   "execution_count": null,
   "id": "73277b90",
   "metadata": {},
   "outputs": [],
   "source": [
    "from ml_pipeline.data_ingestion import download_data\n",
    "from ml_pipeline.preprocessing import preprocessor\n",
    "from ml_pipeline.train_model import train\n",
    "from ml_pipeline.predict import model_predictions\n",
    "from ml_pipeline.write_df_to_bucket import writeDF\n",
    "\n",
    "import numpy as np"
   ]
  }
 ],
 "metadata": {
  "language_info": {
   "name": "python"
  }
 },
 "nbformat": 4,
 "nbformat_minor": 5
}
