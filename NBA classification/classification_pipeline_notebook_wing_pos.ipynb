{
 "cells": [
  {
   "cell_type": "code",
   "execution_count": 1,
   "id": "73277b90",
   "metadata": {},
   "outputs": [],
   "source": [
    "from MLpipeline.data_cleaning import build_data_frame\n",
    "from MLpipeline.s3_data_ingestion import download_data #for when storing data through AWS - Amazon S3 bucket\n",
    "from MLpipeline.preprocessing import preprocessor\n",
    "from MLpipeline.train_model import train\n",
    "from MLpipeline.predict import model_predictions\n",
    "# from MLpipeline.write_df_to_bucket import writeDF\n",
    "\n",
    "import numpy as np\n",
    "import pandas as pd"
   ]
  },
  {
   "cell_type": "markdown",
   "id": "690d62b4",
   "metadata": {},
   "source": [
    "### Using an S3 bucket with access codes and a bucket location"
   ]
  },
  {
   "cell_type": "code",
   "execution_count": 2,
   "id": "c4a544df",
   "metadata": {},
   "outputs": [],
   "source": [
    "# df = download_data(access_file='portfolio-access_accessKeys.csv',bucket='portfolio-overview-ns25',object_key='data/nba_totals_agg.csv', region='us-east-1')"
   ]
  },
  {
   "cell_type": "code",
   "execution_count": 3,
   "id": "398bd71c",
   "metadata": {},
   "outputs": [
    {
     "data": {
      "text/html": [
       "<div>\n",
       "<style scoped>\n",
       "    .dataframe tbody tr th:only-of-type {\n",
       "        vertical-align: middle;\n",
       "    }\n",
       "\n",
       "    .dataframe tbody tr th {\n",
       "        vertical-align: top;\n",
       "    }\n",
       "\n",
       "    .dataframe thead th {\n",
       "        text-align: right;\n",
       "    }\n",
       "</style>\n",
       "<table border=\"1\" class=\"dataframe\">\n",
       "  <thead>\n",
       "    <tr style=\"text-align: right;\">\n",
       "      <th></th>\n",
       "      <th>Player</th>\n",
       "      <th>Age</th>\n",
       "      <th>Year</th>\n",
       "      <th>Tm</th>\n",
       "      <th>Pos</th>\n",
       "      <th>G</th>\n",
       "      <th>GS</th>\n",
       "      <th>MP</th>\n",
       "      <th>FG</th>\n",
       "      <th>FGA</th>\n",
       "      <th>...</th>\n",
       "      <th>FTA</th>\n",
       "      <th>ORB</th>\n",
       "      <th>DRB</th>\n",
       "      <th>TRB</th>\n",
       "      <th>AST</th>\n",
       "      <th>STL</th>\n",
       "      <th>BLK</th>\n",
       "      <th>TOV</th>\n",
       "      <th>PF</th>\n",
       "      <th>PTS</th>\n",
       "    </tr>\n",
       "  </thead>\n",
       "  <tbody>\n",
       "    <tr>\n",
       "      <th>0</th>\n",
       "      <td>A.J. Green</td>\n",
       "      <td>23</td>\n",
       "      <td>2024</td>\n",
       "      <td>MIL</td>\n",
       "      <td>SG</td>\n",
       "      <td>35</td>\n",
       "      <td>1</td>\n",
       "      <td>345</td>\n",
       "      <td>53</td>\n",
       "      <td>125</td>\n",
       "      <td>...</td>\n",
       "      <td>4</td>\n",
       "      <td>6</td>\n",
       "      <td>39</td>\n",
       "      <td>45</td>\n",
       "      <td>22</td>\n",
       "      <td>6</td>\n",
       "      <td>0</td>\n",
       "      <td>9</td>\n",
       "      <td>31</td>\n",
       "      <td>154</td>\n",
       "    </tr>\n",
       "    <tr>\n",
       "      <th>1</th>\n",
       "      <td>A.J. Green</td>\n",
       "      <td>25</td>\n",
       "      <td>2025</td>\n",
       "      <td>MIL</td>\n",
       "      <td>SG</td>\n",
       "      <td>73</td>\n",
       "      <td>7</td>\n",
       "      <td>1659</td>\n",
       "      <td>182</td>\n",
       "      <td>424</td>\n",
       "      <td>...</td>\n",
       "      <td>27</td>\n",
       "      <td>18</td>\n",
       "      <td>156</td>\n",
       "      <td>174</td>\n",
       "      <td>108</td>\n",
       "      <td>37</td>\n",
       "      <td>7</td>\n",
       "      <td>40</td>\n",
       "      <td>157</td>\n",
       "      <td>541</td>\n",
       "    </tr>\n",
       "    <tr>\n",
       "      <th>2</th>\n",
       "      <td>A.J. Lawson</td>\n",
       "      <td>22</td>\n",
       "      <td>2024</td>\n",
       "      <td>DAL</td>\n",
       "      <td>SG</td>\n",
       "      <td>15</td>\n",
       "      <td>0</td>\n",
       "      <td>108</td>\n",
       "      <td>22</td>\n",
       "      <td>44</td>\n",
       "      <td>...</td>\n",
       "      <td>8</td>\n",
       "      <td>6</td>\n",
       "      <td>15</td>\n",
       "      <td>21</td>\n",
       "      <td>2</td>\n",
       "      <td>2</td>\n",
       "      <td>0</td>\n",
       "      <td>3</td>\n",
       "      <td>11</td>\n",
       "      <td>56</td>\n",
       "    </tr>\n",
       "    <tr>\n",
       "      <th>3</th>\n",
       "      <td>A.J. Lawson</td>\n",
       "      <td>24</td>\n",
       "      <td>2025</td>\n",
       "      <td>TOR</td>\n",
       "      <td>SG</td>\n",
       "      <td>26</td>\n",
       "      <td>2</td>\n",
       "      <td>486</td>\n",
       "      <td>80</td>\n",
       "      <td>190</td>\n",
       "      <td>...</td>\n",
       "      <td>63</td>\n",
       "      <td>20</td>\n",
       "      <td>66</td>\n",
       "      <td>86</td>\n",
       "      <td>31</td>\n",
       "      <td>13</td>\n",
       "      <td>6</td>\n",
       "      <td>15</td>\n",
       "      <td>44</td>\n",
       "      <td>236</td>\n",
       "    </tr>\n",
       "    <tr>\n",
       "      <th>4</th>\n",
       "      <td>AJ Griffin</td>\n",
       "      <td>19</td>\n",
       "      <td>2024</td>\n",
       "      <td>ATL</td>\n",
       "      <td>SF</td>\n",
       "      <td>72</td>\n",
       "      <td>12</td>\n",
       "      <td>1401</td>\n",
       "      <td>248</td>\n",
       "      <td>533</td>\n",
       "      <td>...</td>\n",
       "      <td>47</td>\n",
       "      <td>37</td>\n",
       "      <td>116</td>\n",
       "      <td>153</td>\n",
       "      <td>73</td>\n",
       "      <td>42</td>\n",
       "      <td>12</td>\n",
       "      <td>42</td>\n",
       "      <td>87</td>\n",
       "      <td>639</td>\n",
       "    </tr>\n",
       "  </tbody>\n",
       "</table>\n",
       "<p>5 rows × 25 columns</p>\n",
       "</div>"
      ],
      "text/plain": [
       "        Player  Age  Year   Tm Pos   G  GS    MP   FG  FGA  ...  FTA  ORB  \\\n",
       "0   A.J. Green   23  2024  MIL  SG  35   1   345   53  125  ...    4    6   \n",
       "1   A.J. Green   25  2025  MIL  SG  73   7  1659  182  424  ...   27   18   \n",
       "2  A.J. Lawson   22  2024  DAL  SG  15   0   108   22   44  ...    8    6   \n",
       "3  A.J. Lawson   24  2025  TOR  SG  26   2   486   80  190  ...   63   20   \n",
       "4   AJ Griffin   19  2024  ATL  SF  72  12  1401  248  533  ...   47   37   \n",
       "\n",
       "   DRB  TRB  AST  STL  BLK  TOV   PF  PTS  \n",
       "0   39   45   22    6    0    9   31  154  \n",
       "1  156  174  108   37    7   40  157  541  \n",
       "2   15   21    2    2    0    3   11   56  \n",
       "3   66   86   31   13    6   15   44  236  \n",
       "4  116  153   73   42   12   42   87  639  \n",
       "\n",
       "[5 rows x 25 columns]"
      ]
     },
     "execution_count": 3,
     "metadata": {},
     "output_type": "execute_result"
    }
   ],
   "source": [
    "df_totals, df_aggregated = build_data_frame(\"data_files\")\n",
    "df_aggregated.head()"
   ]
  },
  {
   "cell_type": "code",
   "execution_count": 4,
   "id": "e9962527",
   "metadata": {},
   "outputs": [
    {
     "data": {
      "text/plain": [
       "95.0"
      ]
     },
     "execution_count": 4,
     "metadata": {},
     "output_type": "execute_result"
    }
   ],
   "source": [
    "df_aggregated['3PA'].median()"
   ]
  },
  {
   "cell_type": "code",
   "execution_count": 5,
   "id": "91fb0f85",
   "metadata": {},
   "outputs": [],
   "source": [
    "df_aggregated['Pos'] = np.where((df_aggregated['Pos'].isin(['PF','SF','SG'])) & (df_aggregated['3PA'] > df_aggregated['3PA'].median()), 'Wing', df_aggregated['Pos'])"
   ]
  },
  {
   "cell_type": "code",
   "execution_count": 6,
   "id": "356822a4",
   "metadata": {},
   "outputs": [
    {
     "data": {
      "text/plain": [
       "Pos\n",
       "Wing    788\n",
       "C       424\n",
       "PG      416\n",
       "SG      224\n",
       "PF      205\n",
       "SF      196\n",
       "Name: count, dtype: int64"
      ]
     },
     "execution_count": 6,
     "metadata": {},
     "output_type": "execute_result"
    }
   ],
   "source": [
    "df_aggregated['Pos'].value_counts()"
   ]
  },
  {
   "cell_type": "markdown",
   "id": "fa007a44",
   "metadata": {},
   "source": [
    "# Total feature and target data with label encoder\n",
    "\n",
    "X - features - player season statistics\n",
    "\n",
    "y - target - player position\n",
    "\n",
    "le - label encoder to label nominal variables as integers"
   ]
  },
  {
   "cell_type": "code",
   "execution_count": 7,
   "id": "8116556e",
   "metadata": {},
   "outputs": [],
   "source": [
    "X,y,le = preprocessor(df_aggregated)"
   ]
  },
  {
   "cell_type": "code",
   "execution_count": 8,
   "id": "e213654b",
   "metadata": {},
   "outputs": [],
   "source": [
    "model, X_train, y_train, X_val, y_val, X_test, y_test = train(X,y,'xgb_model_wing_big_pos.joblib')"
   ]
  },
  {
   "cell_type": "code",
   "execution_count": 9,
   "id": "56da9f8c",
   "metadata": {},
   "outputs": [
    {
     "data": {
      "text/plain": [
       "Wing    0.563877\n",
       "C       0.185022\n",
       "PG      0.185022\n",
       "PF      0.035242\n",
       "SF      0.017621\n",
       "SG      0.013216\n",
       "Name: proportion, dtype: float64"
      ]
     },
     "execution_count": 9,
     "metadata": {},
     "output_type": "execute_result"
    }
   ],
   "source": [
    "pd.Series(le.inverse_transform(y_test)).value_counts(normalize=True)"
   ]
  },
  {
   "cell_type": "code",
   "execution_count": 10,
   "id": "9afca31d",
   "metadata": {},
   "outputs": [
    {
     "name": "stdout",
     "output_type": "stream",
     "text": [
      "Predictions saved to: output_wing_big_pos\\predictions.csv\n",
      "Precision (macro): 0.599979198086224\n",
      "Recall (macro): 0.525421626984127\n",
      "F1 Score (macro): 0.5526686900272847\n",
      "Precision (weighted): 0.775967626907138\n",
      "\n",
      "Classification Report:\n",
      "               precision    recall  f1-score   support\n",
      "\n",
      "           C       0.76      0.74      0.75        42\n",
      "          PF       0.29      0.25      0.27         8\n",
      "          PG       0.71      0.69      0.70        42\n",
      "          SF       0.50      0.25      0.33         4\n",
      "          SG       0.50      0.33      0.40         3\n",
      "        Wing       0.85      0.89      0.87       128\n",
      "\n",
      "    accuracy                           0.78       227\n",
      "   macro avg       0.60      0.53      0.55       227\n",
      "weighted avg       0.78      0.78      0.78       227\n",
      "\n"
     ]
    },
    {
     "data": {
      "image/png": "[encoded data removed]",
      "text/plain": [
       "<Figure size 640x480 with 2 Axes>"
      ]
     },
     "metadata": {},
     "output_type": "display_data"
    }
   ],
   "source": [
    "y_proba, predictions_df = model_predictions(model, X_test,y_test,le, save_dir=r'output_wing_big_pos')"
   ]
  }
 ],
 "metadata": {
  "kernelspec": {
   "display_name": "Python 3",
   "language": "python",
   "name": "python3"
  },
  "language_info": {
   "codemirror_mode": {
    "name": "ipython",
    "version": 3
   },
   "file_extension": ".py",
   "mimetype": "text/x-python",
   "name": "python",
   "nbconvert_exporter": "python",
   "pygments_lexer": "ipython3",
   "version": "3.12.10"
  }
 },
 "nbformat": 4,
 "nbformat_minor": 5
}
